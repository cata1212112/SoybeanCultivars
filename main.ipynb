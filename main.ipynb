{
 "cells": [
  {
   "cell_type": "code",
   "id": "initial_id",
   "metadata": {
    "collapsed": true,
    "ExecuteTime": {
     "end_time": "2024-04-09T15:45:35.848108Z",
     "start_time": "2024-04-09T15:45:34.556218Z"
    }
   },
   "source": [
    "import numpy as np\n",
    "import pandas as pd\n",
    "import seaborn as sns\n",
    "from matplotlib import pyplot as plt\n",
    "from pandas.plotting import scatter_matrix\n",
    "from prompt_toolkit import validation\n",
    "from statsmodels.regression.linear_model import OLS\n",
    "from statsmodels.stats.outliers_influence import variance_inflation_factor\n",
    "from utilities import clip_outliers, get_kfold, permutation_feature_importance\n",
    "from models import neuralNetwork\n",
    "from scipy.stats import pearsonr\n",
    "from scipy.stats import spearmanr\n",
    "from scipy.stats import kendalltau\n",
    "from scipy.stats import kstest\n",
    "from scipy.stats import wilcoxon\n",
    "import statsmodels.api as sm\n",
    "from sklearn.model_selection import train_test_split\n",
    "from scipy.stats import shapiro\n",
    "from sklearn.model_selection import cross_val_score\n",
    "from scipy.stats import pointbiserialr\n",
    "from scipy.stats import ttest_rel\n",
    "from sklearn.feature_selection import f_classif\n",
    "from scipy.stats import mannwhitneyu\n",
    "import numpy as np\n",
    "from scipy.stats import boxcox\n",
    "from sklearn.metrics import r2_score, root_mean_squared_error\n",
    "from scipy.stats import levene\n",
    "from sklearn.tree import DecisionTreeRegressor\n",
    "from scipy.stats import yeojohnson\n",
    "from sklearn.decomposition import PCA\n",
    "import torch.nn as nn\n",
    "import torch\n",
    "import torch.optim as optim"
   ],
   "outputs": [],
   "execution_count": 1
  },
  {
   "metadata": {},
   "cell_type": "markdown",
   "source": "",
   "id": "5f3e4f02e85c23f2"
  },
  {
   "metadata": {
    "ExecuteTime": {
     "end_time": "2024-04-09T15:45:35.864193Z",
     "start_time": "2024-04-09T15:45:35.849109Z"
    }
   },
   "cell_type": "code",
   "source": "device = torch.device('cuda:0' if torch.cuda.is_available() else 'cpu')",
   "id": "1ef00fd00f6fae0f",
   "outputs": [],
   "execution_count": 2
  },
  {
   "metadata": {},
   "cell_type": "markdown",
   "source": [
    "# Data Analysis: Soybean Cultivars\n",
    "\n",
    "The Soybean Cultivars dataset provides features including plant height, insertion of the first pod, number of stems, number of legumes per plant, number of grains per plant, number of grains per pod/per plant, thousand seed weight, and grain yield of soyplant gathered during an experiment.\n",
    "\n",
    "For additional information about the dataset and how the experiment was conducted, please refer to [this link](https://editorapantanal.com.br/journal/index.php/taes/article/view/8/5).\n",
    "\n",
    "![Soyplant](soyplant.jpg)\n",
    "\n",
    "After reviewing the dataset documentation and researching the appearance of soyplants, several assumptions can be made about the variables:\n",
    "\n",
    "- The number of legumes per plant multiplied by the number of grains per pod should be equal to the number of grains per plant.\n",
    "- There might be a correlation between plant height, the number of legumes per plant, and the insertion of the first pod.\n",
    "- The number of stems may be correlated with the aforementioned factors.\n",
    "\n",
    "Our initial focus will be on employing statistical methods and visual exploration to gain deeper insights into the data and its correlations. Subsequently, we'll explore methods for generating a new cultivar.\n"
   ],
   "id": "7c41f6f0b655f723"
  },
  {
   "metadata": {
    "ExecuteTime": {
     "end_time": "2024-04-09T15:45:40.143874Z",
     "start_time": "2024-04-09T15:45:40.132825Z"
    }
   },
   "cell_type": "code",
   "source": "data = pd.read_csv('data/data.csv')",
   "id": "29173a7d53b437c8",
   "outputs": [],
   "execution_count": 4
  },
  {
   "metadata": {},
   "cell_type": "markdown",
   "source": "# Exploratory data analysis",
   "id": "8e98c9e56e8d9f44"
  },
  {
   "metadata": {
    "ExecuteTime": {
     "end_time": "2024-04-09T12:29:07.101369Z",
     "start_time": "2024-04-09T12:29:07.085368Z"
    }
   },
   "cell_type": "code",
   "source": "data.info()",
   "id": "f856beeb240a0b2a",
   "outputs": [
    {
     "name": "stdout",
     "output_type": "stream",
     "text": [
      "<class 'pandas.core.frame.DataFrame'>\n",
      "RangeIndex: 320 entries, 0 to 319\n",
      "Data columns (total 11 columns):\n",
      " #   Column      Non-Null Count  Dtype  \n",
      "---  ------      --------------  -----  \n",
      " 0   Season      320 non-null    int64  \n",
      " 1   Cultivar    320 non-null    object \n",
      " 2   Repetition  320 non-null    int64  \n",
      " 3   PH          320 non-null    float64\n",
      " 4   IFP         320 non-null    float64\n",
      " 5   NLP         320 non-null    float64\n",
      " 6   NGP         320 non-null    float64\n",
      " 7   NGL         320 non-null    float64\n",
      " 8   NS          320 non-null    float64\n",
      " 9   MHG         320 non-null    float64\n",
      " 10  GY          320 non-null    float64\n",
      "dtypes: float64(8), int64(2), object(1)\n",
      "memory usage: 27.6+ KB\n"
     ]
    }
   ],
   "execution_count": 4
  },
  {
   "metadata": {},
   "cell_type": "markdown",
   "source": "As stated in the dataset documentation there are no missing values and all the columns have the right data type.",
   "id": "39073758d0d034ae"
  },
  {
   "metadata": {
    "ExecuteTime": {
     "end_time": "2024-04-09T12:27:45.304107Z",
     "start_time": "2024-04-09T12:27:45.290067Z"
    }
   },
   "cell_type": "code",
   "source": "data.describe()",
   "id": "2ed61aae5c8c08bc",
   "outputs": [
    {
     "data": {
      "text/plain": [
       "           Season  Repetition          PH       IFP         NLP         NGP  \\\n",
       "count  320.000000  320.000000  320.000000  320.0000  320.000000  320.000000   \n",
       "mean     1.500000    2.500000   68.386781   15.4650   59.088313  135.085844   \n",
       "std      0.500783    1.119785    8.958194    3.0243   20.068187   60.494529   \n",
       "min      1.000000    1.000000   47.600000    7.2000   20.200000   47.800000   \n",
       "25%      1.000000    1.750000   62.950000   13.6000   44.350000   95.052500   \n",
       "50%      1.500000    2.500000   67.200000   15.6000   54.500000  123.000000   \n",
       "75%      2.000000    3.250000   74.347500   17.3300   71.220000  161.350000   \n",
       "max      2.000000    4.000000   94.800000   26.4000  123.000000  683.400000   \n",
       "\n",
       "              NGL          NS         MHG           GY  \n",
       "count  320.000000  320.000000  320.000000   320.000000  \n",
       "mean     2.290844    4.071656  168.322313  3418.553794  \n",
       "std      0.840116    1.474531   19.625566   503.003602  \n",
       "min      0.940000    0.400000  127.060000  1538.230000  \n",
       "25%      2.000000    3.000000  153.845000  3126.611552  \n",
       "50%      2.280000    3.800000  166.150000  3397.276724  \n",
       "75%      2.480000    5.000000  183.182500  3708.262931  \n",
       "max     14.860000    9.000000  216.000000  4930.000000  "
      ],
      "text/html": [
       "<div>\n",
       "<style scoped>\n",
       "    .dataframe tbody tr th:only-of-type {\n",
       "        vertical-align: middle;\n",
       "    }\n",
       "\n",
       "    .dataframe tbody tr th {\n",
       "        vertical-align: top;\n",
       "    }\n",
       "\n",
       "    .dataframe thead th {\n",
       "        text-align: right;\n",
       "    }\n",
       "</style>\n",
       "<table border=\"1\" class=\"dataframe\">\n",
       "  <thead>\n",
       "    <tr style=\"text-align: right;\">\n",
       "      <th></th>\n",
       "      <th>Season</th>\n",
       "      <th>Repetition</th>\n",
       "      <th>PH</th>\n",
       "      <th>IFP</th>\n",
       "      <th>NLP</th>\n",
       "      <th>NGP</th>\n",
       "      <th>NGL</th>\n",
       "      <th>NS</th>\n",
       "      <th>MHG</th>\n",
       "      <th>GY</th>\n",
       "    </tr>\n",
       "  </thead>\n",
       "  <tbody>\n",
       "    <tr>\n",
       "      <th>count</th>\n",
       "      <td>320.000000</td>\n",
       "      <td>320.000000</td>\n",
       "      <td>320.000000</td>\n",
       "      <td>320.0000</td>\n",
       "      <td>320.000000</td>\n",
       "      <td>320.000000</td>\n",
       "      <td>320.000000</td>\n",
       "      <td>320.000000</td>\n",
       "      <td>320.000000</td>\n",
       "      <td>320.000000</td>\n",
       "    </tr>\n",
       "    <tr>\n",
       "      <th>mean</th>\n",
       "      <td>1.500000</td>\n",
       "      <td>2.500000</td>\n",
       "      <td>68.386781</td>\n",
       "      <td>15.4650</td>\n",
       "      <td>59.088313</td>\n",
       "      <td>135.085844</td>\n",
       "      <td>2.290844</td>\n",
       "      <td>4.071656</td>\n",
       "      <td>168.322313</td>\n",
       "      <td>3418.553794</td>\n",
       "    </tr>\n",
       "    <tr>\n",
       "      <th>std</th>\n",
       "      <td>0.500783</td>\n",
       "      <td>1.119785</td>\n",
       "      <td>8.958194</td>\n",
       "      <td>3.0243</td>\n",
       "      <td>20.068187</td>\n",
       "      <td>60.494529</td>\n",
       "      <td>0.840116</td>\n",
       "      <td>1.474531</td>\n",
       "      <td>19.625566</td>\n",
       "      <td>503.003602</td>\n",
       "    </tr>\n",
       "    <tr>\n",
       "      <th>min</th>\n",
       "      <td>1.000000</td>\n",
       "      <td>1.000000</td>\n",
       "      <td>47.600000</td>\n",
       "      <td>7.2000</td>\n",
       "      <td>20.200000</td>\n",
       "      <td>47.800000</td>\n",
       "      <td>0.940000</td>\n",
       "      <td>0.400000</td>\n",
       "      <td>127.060000</td>\n",
       "      <td>1538.230000</td>\n",
       "    </tr>\n",
       "    <tr>\n",
       "      <th>25%</th>\n",
       "      <td>1.000000</td>\n",
       "      <td>1.750000</td>\n",
       "      <td>62.950000</td>\n",
       "      <td>13.6000</td>\n",
       "      <td>44.350000</td>\n",
       "      <td>95.052500</td>\n",
       "      <td>2.000000</td>\n",
       "      <td>3.000000</td>\n",
       "      <td>153.845000</td>\n",
       "      <td>3126.611552</td>\n",
       "    </tr>\n",
       "    <tr>\n",
       "      <th>50%</th>\n",
       "      <td>1.500000</td>\n",
       "      <td>2.500000</td>\n",
       "      <td>67.200000</td>\n",
       "      <td>15.6000</td>\n",
       "      <td>54.500000</td>\n",
       "      <td>123.000000</td>\n",
       "      <td>2.280000</td>\n",
       "      <td>3.800000</td>\n",
       "      <td>166.150000</td>\n",
       "      <td>3397.276724</td>\n",
       "    </tr>\n",
       "    <tr>\n",
       "      <th>75%</th>\n",
       "      <td>2.000000</td>\n",
       "      <td>3.250000</td>\n",
       "      <td>74.347500</td>\n",
       "      <td>17.3300</td>\n",
       "      <td>71.220000</td>\n",
       "      <td>161.350000</td>\n",
       "      <td>2.480000</td>\n",
       "      <td>5.000000</td>\n",
       "      <td>183.182500</td>\n",
       "      <td>3708.262931</td>\n",
       "    </tr>\n",
       "    <tr>\n",
       "      <th>max</th>\n",
       "      <td>2.000000</td>\n",
       "      <td>4.000000</td>\n",
       "      <td>94.800000</td>\n",
       "      <td>26.4000</td>\n",
       "      <td>123.000000</td>\n",
       "      <td>683.400000</td>\n",
       "      <td>14.860000</td>\n",
       "      <td>9.000000</td>\n",
       "      <td>216.000000</td>\n",
       "      <td>4930.000000</td>\n",
       "    </tr>\n",
       "  </tbody>\n",
       "</table>\n",
       "</div>"
      ]
     },
     "execution_count": 64,
     "metadata": {},
     "output_type": "execute_result"
    }
   ],
   "execution_count": 64
  },
  {
   "metadata": {},
   "cell_type": "markdown",
   "source": "Looking at number of grains per plant (NGP) we can see that the mean (sensitive to outliers) is significantly greater than the median, the same for number of legumes per plant (NLP).",
   "id": "d8980161a879de44"
  },
  {
   "metadata": {
    "ExecuteTime": {
     "end_time": "2024-04-09T12:27:45.320107Z",
     "start_time": "2024-04-09T12:27:45.304107Z"
    }
   },
   "cell_type": "code",
   "source": "float_cols = data.select_dtypes(include='float64').columns",
   "id": "4285dea9ff3a532c",
   "outputs": [],
   "execution_count": 65
  },
  {
   "metadata": {
    "ExecuteTime": {
     "end_time": "2024-04-09T12:27:45.912110Z",
     "start_time": "2024-04-09T12:27:45.321107Z"
    }
   },
   "cell_type": "code",
   "source": [
    "fig, axs = plt.subplots(nrows=2, ncols=4, figsize=(25,10))\n",
    "cnt = 0\n",
    "for i in range(2):\n",
    "    for j in range(4):\n",
    "        axs[i, j].boxplot(data[float_cols.tolist()[cnt]])\n",
    "        axs[i, j].set_title(float_cols.tolist()[cnt])\n",
    "        cnt += 1\n",
    "fig.tight_layout()\n",
    "plt.show()"
   ],
   "id": "7016e07bdf109cb5",
   "outputs": [
    {
     "data": {
      "text/plain": [
       "<Figure size 2500x1000 with 8 Axes>"
      ],
      "image/png": "[encoded data removed]"
     },
     "metadata": {},
     "output_type": "display_data"
    }
   ],
   "execution_count": 66
  },
  {
   "metadata": {
    "ExecuteTime": {
     "start_time": "2024-04-09T12:27:45.913111Z"
    }
   },
   "cell_type": "code",
   "source": [
    "fig, axs = plt.subplots(nrows=2, ncols=4, figsize=(25,10))\n",
    "cnt = 0\n",
    "for i in range(2):\n",
    "    for j in range(4):\n",
    "        sns.histplot(data[float_cols.tolist()[cnt]], ax=axs[i,j], kde=True)\n",
    "        cnt += 1\n",
    "fig.tight_layout()\n",
    "plt.show()"
   ],
   "id": "bbe1631ce418f8ba",
   "outputs": [],
   "execution_count": null
  },
  {
   "metadata": {},
   "cell_type": "markdown",
   "source": "We can see that the number of grains per legume (NGL), the number of grains per plant (NGP) and IFP have a long positive tail, MHG has 2 peaks. GY have as well a negative tail. Further segmentation investigation needs to be done. There are some soy plants that have a lot of legumes therefore they have a lot of grains.",
   "id": "74e44bc152a71d49"
  },
  {
   "metadata": {},
   "cell_type": "code",
   "source": [
    "season1 = data[data.Season == 1]\n",
    "season2 = data[data.Season == 2]\n",
    "fig, axs = plt.subplots(nrows=2, ncols=4, figsize=(25,10))\n",
    "cnt = 0\n",
    "for i in range(2):\n",
    "    for j in range(4):\n",
    "        axs[i, j].boxplot([season1[float_cols.tolist()[cnt]], season2[float_cols.tolist()[cnt]]])\n",
    "        axs[i, j].set_title(float_cols.tolist()[cnt])\n",
    "        cnt += 1\n",
    "fig.tight_layout()\n",
    "plt.show()"
   ],
   "id": "200fd693c3d11e8f",
   "outputs": [],
   "execution_count": null
  },
  {
   "metadata": {},
   "cell_type": "markdown",
   "source": "If we split by season we observe that in general the plants from season 2 are taller, but the insertion of the first pod in lower and although they have less stems they roughly have the same number of grains. We can also think that there is a slight negative correlation between PH and NS when splitted by season, also lets take a look at distributions.",
   "id": "9fb5a76ce8fa0115"
  },
  {
   "metadata": {},
   "cell_type": "code",
   "source": [
    "fig, axs = plt.subplots(nrows=2, ncols=4, figsize=(15,10))\n",
    "cnt = 0\n",
    "for i in range(2):\n",
    "    for j in range(4):\n",
    "        axs[i, j].hist([season1[float_cols.tolist()[cnt]], season2[float_cols.tolist()[cnt]]])\n",
    "        axs[i, j].set_title(float_cols.tolist()[cnt])\n",
    "        cnt += 1\n",
    "fig.tight_layout()\n",
    "plt.show()"
   ],
   "id": "4a9b07674076542a",
   "outputs": [],
   "execution_count": null
  },
  {
   "metadata": {},
   "cell_type": "markdown",
   "source": "Further statistical tests needs to be done in order to determine if the season have a significant importance. But, for now, let's check for correlations.",
   "id": "9b1a3471be7b01b9"
  },
  {
   "metadata": {},
   "cell_type": "code",
   "source": [
    "fig, ax = plt.subplots(1, figsize=(25,10))\n",
    "sns.heatmap(data.select_dtypes(exclude='object').corr(), annot=True, vmin=-1, vmax=1)\n",
    "fig, ax = plt.subplots(1, figsize=(25,10))\n",
    "scatter_matrix(data.select_dtypes(exclude='object'), ax=ax)"
   ],
   "id": "9bf96e2b312cde02",
   "outputs": [],
   "execution_count": null
  },
  {
   "metadata": {},
   "cell_type": "markdown",
   "source": [
    "Looking at the above plots we can derive the followings:\n",
    "<li> There is a moderate linear negative relationship between season and number of stems. </li>\n",
    "<li> Also season have weak correlations with IFP, PH, MHG. I'm guessing that one season is more potent than the other.</li>\n",
    "<li> There is  a weak correlation between plant height and insertion of the first pod, I think that if a plant is taller, its first pod will be ata higher level.</li>\n",
    "<li> As stated in the beggining there is a fairly strong positive correlation between the number of grains per plant (NGP), number of grain per legume (NGP), number of legumes per plant(NLP) and number of stems. The more stems <=> the more grains and so on. The actual causation needs to be determined</li>\n",
    "<li>At first glance the repetion its not corelated with anything as it should.</li>\n",
    "\n",
    "We need to gain more information in order to conclude if there is any causation or if a variable influences another variable.\n"
   ],
   "id": "f04a06208900ec8a"
  },
  {
   "metadata": {},
   "cell_type": "markdown",
   "source": "Now let's explore the correlation between the number of grains per plant (NGP), the number of legumes per plant (NLP) and the number of grains per legume (NGL) as I expect a strong linear relationship. In addition we will explore number of stems (NS) and insertion of first plant (IFP).",
   "id": "d7a27ed3fca35acb"
  },
  {
   "metadata": {},
   "cell_type": "code",
   "source": [
    "interest_fiels = data[['NGP', 'NLP', 'NGL', 'NS', 'IFP']]\n",
    "X = interest_fiels[['NLP', 'NGL', 'IFP', 'NS']]\n",
    "X = sm.add_constant(X)\n",
    "model = sm.OLS(interest_fiels['NGP'], X)\n",
    "results = model.fit()\n",
    "print(results.summary())"
   ],
   "id": "ea4682390a08fab0",
   "outputs": [],
   "execution_count": null
  },
  {
   "metadata": {},
   "cell_type": "markdown",
   "source": "the t value of IFP is small, so we can drop it.",
   "id": "5a8e21276cb4a91"
  },
  {
   "metadata": {},
   "cell_type": "code",
   "source": [
    "interest_fiels = data[['NGP', 'NLP', 'NGL', 'NS', 'IFP']]\n",
    "X = interest_fiels[['NLP', 'NGL', 'NS']]\n",
    "X = sm.add_constant(X)\n",
    "model = sm.OLS(interest_fiels['NGP'], X)\n",
    "results = model.fit()\n",
    "print(results.summary())"
   ],
   "id": "6f22d4e0bcc3bf63",
   "outputs": [],
   "execution_count": null
  },
  {
   "metadata": {},
   "cell_type": "code",
   "source": [
    "interest_fiels = data[['NGP', 'NLP', 'NGL', 'NS', 'IFP']]\n",
    "X = interest_fiels[['NLP', 'NGL']]\n",
    "X = sm.add_constant(X)\n",
    "model = sm.OLS(interest_fiels['NGP'], X)\n",
    "results = model.fit()\n",
    "print(results.summary())"
   ],
   "id": "f083b603f856e161",
   "outputs": [],
   "execution_count": null
  },
  {
   "metadata": {},
   "cell_type": "markdown",
   "source": [
    "All the t values are high, so this confirm my hyppotesys in the beggining. By looking at R-squared we see that 90% of variation in NGP is explained by NLP and NGL. \n",
    "One more step is to use Variance Inflation Factor to determine multicolinearity."
   ],
   "id": "2f3b7b74582b88a6"
  },
  {
   "metadata": {},
   "cell_type": "code",
   "source": [
    "X = data[float_cols]\n",
    "X = sm.add_constant(X)\n",
    "vif = pd.Series([variance_inflation_factor(X.values, i) for i in range(X.shape[1])],index=X.columns)\n",
    "vif"
   ],
   "id": "1d50d4b4970ac8c0",
   "outputs": [],
   "execution_count": null
  },
  {
   "metadata": {},
   "cell_type": "markdown",
   "source": "We will drop the number of grains per plant for future models as it's higly collinear with NLP and NGL.",
   "id": "1d1b8b388d28c701"
  },
  {
   "metadata": {
    "ExecuteTime": {
     "end_time": "2024-04-09T15:45:49.294556Z",
     "start_time": "2024-04-09T15:45:49.281Z"
    }
   },
   "cell_type": "code",
   "source": "data = data.drop('NGP', axis=1)",
   "id": "b49b4250fc9cde0b",
   "outputs": [],
   "execution_count": 5
  },
  {
   "metadata": {},
   "cell_type": "code",
   "source": [
    "X = data[data.select_dtypes(include='float64').columns]\n",
    "X = sm.add_constant(X)\n",
    "vif = pd.Series([variance_inflation_factor(X.values, i) for i in range(X.shape[1])],index=X.columns)\n",
    "vif"
   ],
   "id": "67d2d537a644e107",
   "outputs": [],
   "execution_count": null
  },
  {
   "metadata": {},
   "cell_type": "markdown",
   "source": "Now our data looks good, without multicolinearity.",
   "id": "4ee07d24f3042771"
  },
  {
   "metadata": {},
   "cell_type": "markdown",
   "source": "# Let's look at how variables affect thousand seed weight (MHG)",
   "id": "484c30e552889a95"
  },
  {
   "metadata": {},
   "cell_type": "markdown",
   "source": "Looking at the correlation matrix MHG is slighty correlated with Season, in order to determine the most important factors that influence MHG we will use linear regression. But one more thing before is to decide why its histogram has 2 peaks. By looking at the boxplots we can see that when splitted by season, MHG has in general higher values in season 2.",
   "id": "1bb3e4a2dfdaf265"
  },
  {
   "metadata": {},
   "cell_type": "code",
   "source": [
    "fig, ax = plt.subplots(1, figsize=(25,10))\n",
    "sns.histplot(data[data.Season == 1].MHG, ax=ax, kde=True)\n",
    "sns.histplot(data[data.Season == 2].MHG, ax=ax, kde=True)"
   ],
   "id": "b641ca99f07338f1",
   "outputs": [],
   "execution_count": null
  },
  {
   "metadata": {},
   "cell_type": "markdown",
   "source": "By looking at the distribution we can clearly see 2 different populations, now we will apply statistical test to formaly confirm this assumption.",
   "id": "371ed8e8e7a90009"
  },
  {
   "metadata": {},
   "cell_type": "code",
   "source": "pearsonr(data[data.Season == 1].MHG, data[data.Season == 2].MHG)",
   "id": "a04bcdc505d0417a",
   "outputs": [],
   "execution_count": null
  },
  {
   "metadata": {},
   "cell_type": "markdown",
   "source": "The distributions are higly correlated so we will apply Wilcoxon signed-rank tes.",
   "id": "ee56ceb9795bd5ad"
  },
  {
   "metadata": {},
   "cell_type": "code",
   "source": "wilcoxon(data[data.Season == 1].MHG, data[data.Season == 2].MHG)",
   "id": "c692efaab7323f7c",
   "outputs": [],
   "execution_count": null
  },
  {
   "metadata": {},
   "cell_type": "markdown",
   "source": "P-Value is very small so we can conclude that there is strong evidence to suggest that the distributions seasons are in fact different and explain the bimodal distribution.",
   "id": "f482a86560f46ee"
  },
  {
   "metadata": {},
   "cell_type": "markdown",
   "source": "To process the data for linear regression analysis we will drop Cultival and Repetition columns, as they have no effect on MHG, and we will one hot encode Season.",
   "id": "83eb69c48da28677"
  },
  {
   "metadata": {
    "ExecuteTime": {
     "end_time": "2024-04-09T15:45:52.055640Z",
     "start_time": "2024-04-09T15:45:52.041131Z"
    }
   },
   "cell_type": "code",
   "source": [
    "mhg_model_data = data.drop(['Cultivar', 'Repetition'], axis=1)\n",
    "mhg_model_data['IsSeason1'] = mhg_model_data['Season'] == 1\n",
    "mhg_model_data = mhg_model_data.drop('Season', axis=1)\n",
    "mhg_model_data['IsSeason1'] = mhg_model_data['IsSeason1'].apply(int)"
   ],
   "id": "dda6dae41add8895",
   "outputs": [],
   "execution_count": 6
  },
  {
   "metadata": {},
   "cell_type": "code",
   "source": [
    "X = mhg_model_data.drop('MHG', axis=1)\n",
    "X = sm.add_constant(X)\n",
    "vif = pd.Series([variance_inflation_factor(X.values, i) for i in range(X.shape[1])],index=X.columns)\n",
    "vif"
   ],
   "id": "980d19133a53e62d",
   "outputs": [],
   "execution_count": null
  },
  {
   "metadata": {},
   "cell_type": "markdown",
   "source": "As a note, because Season is binary. we will not introduce 'IsSeason2' as its equal to 1 - IsSeason1 and we dont want to introduce multicolinearity.",
   "id": "c03c9774a06528ff"
  },
  {
   "metadata": {
    "ExecuteTime": {
     "end_time": "2024-04-09T15:56:42.920970Z",
     "start_time": "2024-04-09T15:56:42.889970Z"
    }
   },
   "cell_type": "code",
   "source": [
    "y = mhg_model_data['MHG']\n",
    "X = mhg_model_data.drop('MHG', axis=1)\n",
    "X = sm.add_constant(X)\n",
    "linear_model = sm.OLS(y, X)\n",
    "res = linear_model.fit()\n",
    "print(res.summary())"
   ],
   "id": "7179abdd9f45ae6e",
   "outputs": [
    {
     "name": "stdout",
     "output_type": "stream",
     "text": [
      "                            OLS Regression Results                            \n",
      "==============================================================================\n",
      "Dep. Variable:                    MHG   R-squared:                       0.136\n",
      "Model:                            OLS   Adj. R-squared:                  0.117\n",
      "Method:                 Least Squares   F-statistic:                     7.026\n",
      "Date:                Tue, 09 Apr 2024   Prob (F-statistic):           8.62e-08\n",
      "Time:                        18:56:42   Log-Likelihood:                -1382.7\n",
      "No. Observations:                 320   AIC:                             2781.\n",
      "Df Residuals:                     312   BIC:                             2812.\n",
      "Df Model:                           7                                         \n",
      "Covariance Type:            nonrobust                                         \n",
      "==============================================================================\n",
      "                 coef    std err          t      P>|t|      [0.025      0.975]\n",
      "------------------------------------------------------------------------------\n",
      "const        179.7310     11.004     16.333      0.000     158.079     201.383\n",
      "PH            -0.4377      0.137     -3.190      0.002      -0.708      -0.168\n",
      "IFP            0.7898      0.426      1.853      0.065      -0.049       1.628\n",
      "NLP           -0.0318      0.069     -0.462      0.645      -0.167       0.104\n",
      "NGL            1.2292      1.257      0.978      0.329      -1.245       3.703\n",
      "NS             0.5612      1.090      0.515      0.607      -1.583       2.706\n",
      "GY             0.0034      0.002      1.573      0.117      -0.001       0.008\n",
      "IsSeason1    -16.7763      2.823     -5.942      0.000     -22.332     -11.221\n",
      "==============================================================================\n",
      "Omnibus:                        3.978   Durbin-Watson:                   2.025\n",
      "Prob(Omnibus):                  0.137   Jarque-Bera (JB):                3.511\n",
      "Skew:                           0.178   Prob(JB):                        0.173\n",
      "Kurtosis:                       2.630   Cond. No.                     3.69e+04\n",
      "==============================================================================\n",
      "\n",
      "Notes:\n",
      "[1] Standard Errors assume that the covariance matrix of the errors is correctly specified.\n",
      "[2] The condition number is large, 3.69e+04. This might indicate that there are\n",
      "strong multicollinearity or other numerical problems.\n"
     ]
    }
   ],
   "execution_count": 28
  },
  {
   "metadata": {},
   "cell_type": "code",
   "source": [
    "residuals = res.resid\n",
    "sns.histplot(residuals, bins=20, kde=True)"
   ],
   "id": "b33bfa7b204672d1",
   "outputs": [],
   "execution_count": null
  },
  {
   "metadata": {},
   "cell_type": "code",
   "source": "sm.qqplot(residuals, line='s')",
   "id": "f7dbe8a90c7f3e73",
   "outputs": [],
   "execution_count": null
  },
  {
   "metadata": {},
   "cell_type": "code",
   "source": "root_mean_squared_error(res.fittedvalues, y)",
   "id": "d10d8ac9f2ff5742",
   "outputs": [],
   "execution_count": null
  },
  {
   "metadata": {},
   "cell_type": "code",
   "source": [
    "a = pd.DataFrame({'fitted':res.fittedvalues, 'actual':y})\n",
    "a"
   ],
   "id": "86c6749e44ba43f1",
   "outputs": [],
   "execution_count": null
  },
  {
   "metadata": {},
   "cell_type": "markdown",
   "source": "By the plots above the resials have in fact a normal distribution. By looking at t-statistic and p value we can observe that the most important factors in dermining MHG are Season and Plant Height.",
   "id": "d3e01314803f11a"
  },
  {
   "metadata": {},
   "cell_type": "code",
   "outputs": [],
   "execution_count": null,
   "source": "",
   "id": "6cb555fe5e7ba87a"
  },
  {
   "metadata": {
    "ExecuteTime": {
     "end_time": "2024-04-09T15:45:55.914028Z",
     "start_time": "2024-04-09T15:45:55.905518Z"
    }
   },
   "cell_type": "code",
   "source": [
    "mhg_model_data = mhg_model_data.sample(frac=1)\n",
    "train_data, validation_data = train_test_split(mhg_model_data, test_size=0.1)\n",
    "train_data = train_data.reset_index()\n",
    "validation_data = validation_data.reset_index()\n",
    "X_train = train_data.drop('MHG', axis=1)\n",
    "y_train = train_data['MHG']\n",
    "X_validation = validation_data.drop('MHG', axis=1)\n",
    "y_validation = validation_data['MHG']\n",
    "X_train.drop('index', axis=1, inplace=True)\n",
    "X_validation.drop('index', axis=1, inplace=True)"
   ],
   "id": "eff5d7a8378bc862",
   "outputs": [],
   "execution_count": 7
  },
  {
   "metadata": {
    "ExecuteTime": {
     "end_time": "2024-04-09T15:45:57.030769Z",
     "start_time": "2024-04-09T15:45:57.016477Z"
    }
   },
   "cell_type": "code",
   "source": [
    "from sklearn.preprocessing import StandardScaler\n",
    "float_cols = X_train.select_dtypes(include='float64').columns\n",
    "scaler = StandardScaler()\n",
    "scaler.fit(X_train[float_cols])\n",
    "X_train[float_cols] = scaler.transform(X_train[float_cols])\n",
    "X_validation[float_cols] = scaler.transform(X_validation[float_cols])"
   ],
   "id": "3faaf27628bee789",
   "outputs": [],
   "execution_count": 8
  },
  {
   "metadata": {
    "ExecuteTime": {
     "end_time": "2024-04-09T15:45:59.687638Z",
     "start_time": "2024-04-09T15:45:57.322675Z"
    }
   },
   "cell_type": "code",
   "source": [
    "import utilities\n",
    "model = neuralNetwork.SoyBeanNetwork(len(X_train.columns)).to(device)\n",
    "criterion = nn.MSELoss()\n",
    "optimizer = optim.Adam(model.parameters(), lr=1e-3)\n",
    "train_losses, val_lossses = utilities.train(model, 100, criterion, optimizer, X_train, y_train, X_validation, y_validation)"
   ],
   "id": "3769eb78cee5d2a",
   "outputs": [
    {
     "name": "stdout",
     "output_type": "stream",
     "text": [
      "OK\n"
     ]
    }
   ],
   "execution_count": 9
  },
  {
   "metadata": {
    "ExecuteTime": {
     "end_time": "2024-04-09T15:45:59.825626Z",
     "start_time": "2024-04-09T15:45:59.688639Z"
    }
   },
   "cell_type": "code",
   "source": [
    "sns.lineplot(train_losses, label='Training Loss')\n",
    "sns.lineplot(val_lossses, label='Validation Loss')"
   ],
   "id": "577edb9b54107f6f",
   "outputs": [
    {
     "data": {
      "text/plain": [
       "<Axes: >"
      ]
     },
     "execution_count": 10,
     "metadata": {},
     "output_type": "execute_result"
    },
    {
     "data": {
      "text/plain": [
       "<Figure size 640x480 with 1 Axes>"
      ],
      "image/png": "[encoded data removed]"
     },
     "metadata": {},
     "output_type": "display_data"
    }
   ],
   "execution_count": 10
  },
  {
   "metadata": {
    "ExecuteTime": {
     "end_time": "2024-04-09T15:45:59.841252Z",
     "start_time": "2024-04-09T15:45:59.826626Z"
    }
   },
   "cell_type": "code",
   "source": [
    "y_train_pred = model(torch.tensor(X_train.to_numpy(), dtype=torch.float).to(device)).cpu().detach().numpy()\n",
    "y_val_pred = model(torch.tensor(X_validation.to_numpy(), dtype=torch.float).to(device)).cpu().detach().numpy()"
   ],
   "id": "f38eb1f59de46b9d",
   "outputs": [],
   "execution_count": 11
  },
  {
   "metadata": {
    "ExecuteTime": {
     "end_time": "2024-04-09T15:45:59.856266Z",
     "start_time": "2024-04-09T15:45:59.842253Z"
    }
   },
   "cell_type": "code",
   "source": "print(root_mean_squared_error(y_train_pred.squeeze(1), y_train.to_numpy()), root_mean_squared_error(y_val_pred.squeeze(1), y_validation.to_numpy()))",
   "id": "3b771e7618c7fd9f",
   "outputs": [
    {
     "name": "stdout",
     "output_type": "stream",
     "text": [
      "21.525303739113124 14.697876701319956\n"
     ]
    }
   ],
   "execution_count": 12
  },
  {
   "metadata": {
    "ExecuteTime": {
     "end_time": "2024-04-09T15:47:50.536995Z",
     "start_time": "2024-04-09T15:46:30.618792Z"
    }
   },
   "cell_type": "code",
   "source": [
    "import utilities\n",
    "importances = utilities.permutation_feature_importance(model, X_validation, y_validation, root_mean_squared_error, n_repeats=10000)\n",
    "\n",
    "aux = [(feat_name, imp) for feat_name, imp in zip(X_train.columns, importances)]\n",
    "aux = sorted(aux, key=lambda x: x[1], reverse=True)\n",
    "aux"
   ],
   "id": "4d7aa351c8fa5bb0",
   "outputs": [
    {
     "data": {
      "text/plain": [
       "[('IsSeason1', 6.634522551864848),\n",
       " ('NS', 5.175701329295329),\n",
       " ('NGL', 2.5205942824554057),\n",
       " ('NLP', 2.4181275725246323),\n",
       " ('GY', 1.8712055997224581),\n",
       " ('IFP', 1.7010821113605594),\n",
       " ('PH', 1.6548695088841683)]"
      ]
     },
     "execution_count": 15,
     "metadata": {},
     "output_type": "execute_result"
    }
   ],
   "execution_count": 15
  },
  {
   "metadata": {},
   "cell_type": "markdown",
   "source": "By looking at the above values we can conclude that the most important factors in determining MHG are NS and the Season.",
   "id": "ea25710b159b5748"
  },
  {
   "metadata": {},
   "cell_type": "markdown",
   "source": "# Let's look at how variables affect grain yield (GY)",
   "id": "1e3c4cf61d938565"
  },
  {
   "metadata": {
    "ExecuteTime": {
     "end_time": "2024-04-09T15:48:40.121190Z",
     "start_time": "2024-04-09T15:48:40.113628Z"
    }
   },
   "cell_type": "code",
   "source": [
    "gy_model_data = data.drop(['Cultivar', 'Repetition'], axis=1)\n",
    "gy_model_data['IsSeason1'] = gy_model_data['Season'] == 1\n",
    "gy_model_data = gy_model_data.drop('Season', axis=1)\n",
    "gy_model_data['IsSeason1'] = gy_model_data['IsSeason1'].apply(int)"
   ],
   "id": "7e55c804370c5395",
   "outputs": [],
   "execution_count": 16
  },
  {
   "metadata": {},
   "cell_type": "code",
   "source": [
    "X = gy_model_data.drop('GY', axis=1)\n",
    "X = sm.add_constant(X)\n",
    "vif = pd.Series([variance_inflation_factor(X.values, i) for i in range(X.shape[1])],index=X.columns)\n",
    "vif"
   ],
   "id": "9e2d7f99f892f73e",
   "outputs": [],
   "execution_count": null
  },
  {
   "metadata": {},
   "cell_type": "markdown",
   "source": "We make sure that there is no colinearity.",
   "id": "6c3485973fba0ca9"
  },
  {
   "metadata": {},
   "cell_type": "code",
   "source": [
    "y = gy_model_data['GY']\n",
    "X = gy_model_data.drop(['GY'], axis=1)\n",
    "X = sm.add_constant(X)\n",
    "linear_model = sm.OLS(y, X)\n",
    "res = linear_model.fit()\n",
    "print(res.summary())"
   ],
   "id": "eff9ae42fdd32f29",
   "outputs": [],
   "execution_count": null
  },
  {
   "metadata": {},
   "cell_type": "code",
   "source": [
    "residuals = res.resid\n",
    "sns.histplot(residuals, bins=20, kde=True)"
   ],
   "id": "26f8d807d953c504",
   "outputs": [],
   "execution_count": null
  },
  {
   "metadata": {},
   "cell_type": "code",
   "source": "root_mean_squared_error(res.fittedvalues, y)",
   "id": "7864f0d2b5e8b455",
   "outputs": [],
   "execution_count": null
  },
  {
   "metadata": {},
   "cell_type": "code",
   "source": [
    "a = pd.DataFrame({'fitted':res.fittedvalues, 'actual':y})\n",
    "a"
   ],
   "id": "5a249030a9dfb79a",
   "outputs": [],
   "execution_count": null
  },
  {
   "metadata": {
    "ExecuteTime": {
     "end_time": "2024-04-09T15:49:11.983834Z",
     "start_time": "2024-04-09T15:49:11.968305Z"
    }
   },
   "cell_type": "code",
   "source": [
    "gy_model_data = gy_model_data.sample(frac=1)\n",
    "train_data, validation_data = train_test_split(gy_model_data, test_size=0.1)\n",
    "train_data = train_data.reset_index()\n",
    "validation_data = validation_data.reset_index()\n",
    "X_train = train_data.drop('GY', axis=1)\n",
    "y_train = train_data['GY']\n",
    "X_validation = validation_data.drop('GY', axis=1)\n",
    "y_validation = validation_data['GY']\n",
    "X_train.drop('index', axis=1, inplace=True)\n",
    "X_validation.drop('index', axis=1, inplace=True)"
   ],
   "id": "94e8fa4858529af4",
   "outputs": [],
   "execution_count": 17
  },
  {
   "metadata": {
    "ExecuteTime": {
     "end_time": "2024-04-09T15:49:24.432370Z",
     "start_time": "2024-04-09T15:49:24.411833Z"
    }
   },
   "cell_type": "code",
   "source": [
    "from sklearn.preprocessing import StandardScaler\n",
    "float_cols = X_train.select_dtypes(include='float64').columns\n",
    "scaler = StandardScaler()\n",
    "scaler.fit(X_train[float_cols])\n",
    "X_train[float_cols] = scaler.transform(X_train[float_cols])\n",
    "X_validation[float_cols] = scaler.transform(X_validation[float_cols])"
   ],
   "id": "e9291ce91137aaa3",
   "outputs": [],
   "execution_count": 18
  },
  {
   "metadata": {
    "ExecuteTime": {
     "end_time": "2024-04-09T15:50:32.185900Z",
     "start_time": "2024-04-09T15:50:21.794935Z"
    }
   },
   "cell_type": "code",
   "source": [
    "import utilities\n",
    "model = neuralNetwork.SoyBeanNetwork(len(X_train.columns)).to(device)\n",
    "criterion = nn.MSELoss()\n",
    "optimizer = optim.Adam(model.parameters(), lr=1e-3)\n",
    "train_losses, val_lossses = utilities.train(model, 500, criterion, optimizer, X_train, y_train, X_validation, y_validation)"
   ],
   "id": "323ae9b56d3a6fdf",
   "outputs": [
    {
     "name": "stdout",
     "output_type": "stream",
     "text": [
      "OK\n"
     ]
    }
   ],
   "execution_count": 23
  },
  {
   "metadata": {
    "ExecuteTime": {
     "end_time": "2024-04-09T15:50:32.308203Z",
     "start_time": "2024-04-09T15:50:32.186901Z"
    }
   },
   "cell_type": "code",
   "source": [
    "sns.lineplot(train_losses, label='Training Loss')\n",
    "sns.lineplot(val_lossses, label='Validation Loss')"
   ],
   "id": "3cb9807b58d45079",
   "outputs": [
    {
     "data": {
      "text/plain": [
       "<Axes: >"
      ]
     },
     "execution_count": 24,
     "metadata": {},
     "output_type": "execute_result"
    },
    {
     "data": {
      "text/plain": [
       "<Figure size 640x480 with 1 Axes>"
      ],
      "image/png": "[encoded data removed]"
     },
     "metadata": {},
     "output_type": "display_data"
    }
   ],
   "execution_count": 24
  },
  {
   "metadata": {
    "ExecuteTime": {
     "end_time": "2024-04-09T15:50:32.323712Z",
     "start_time": "2024-04-09T15:50:32.308203Z"
    }
   },
   "cell_type": "code",
   "source": [
    "y_train_pred = model(torch.tensor(X_train.to_numpy(), dtype=torch.float).to(device)).cpu().detach().numpy()\n",
    "y_val_pred = model(torch.tensor(X_validation.to_numpy(), dtype=torch.float).to(device)).cpu().detach().numpy()"
   ],
   "id": "42b98f65a57a64eb",
   "outputs": [],
   "execution_count": 25
  },
  {
   "metadata": {
    "ExecuteTime": {
     "end_time": "2024-04-09T15:50:32.339032Z",
     "start_time": "2024-04-09T15:50:32.324712Z"
    }
   },
   "cell_type": "code",
   "source": "print(root_mean_squared_error(y_train_pred.squeeze(1), y_train.to_numpy()), root_mean_squared_error(y_val_pred.squeeze(1), y_validation.to_numpy()))",
   "id": "6b80218182379aa7",
   "outputs": [
    {
     "name": "stdout",
     "output_type": "stream",
     "text": [
      "435.985291819581 708.8116467339171\n"
     ]
    }
   ],
   "execution_count": 26
  },
  {
   "metadata": {
    "ExecuteTime": {
     "end_time": "2024-04-09T16:15:55.934954Z",
     "start_time": "2024-04-09T16:05:48.286562Z"
    }
   },
   "cell_type": "code",
   "source": [
    "import utilities\n",
    "importances = utilities.permutation_feature_importance(model, X_validation, y_validation, root_mean_squared_error, n_repeats=100000)\n",
    "\n",
    "aux = [(feat_name, imp) for feat_name, imp in zip(X_train.columns, importances)]\n",
    "aux = sorted(aux, key=lambda x: x[1], reverse=True)\n",
    "aux"
   ],
   "id": "3c7ecef0705ea278",
   "outputs": [
    {
     "data": {
      "text/plain": [
       "[('IFP', 47.59106678388844),\n",
       " ('MHG', 31.504429254486467),\n",
       " ('NLP', 24.337774535982135),\n",
       " ('NS', 15.51168682902005),\n",
       " ('PH', 5.794401736369309),\n",
       " ('IsSeason1', 0.01736107698309297),\n",
       " ('NGL', -3.495985708341209)]"
      ]
     },
     "execution_count": 29,
     "metadata": {},
     "output_type": "execute_result"
    }
   ],
   "execution_count": 29
  },
  {
   "metadata": {},
   "cell_type": "markdown",
   "source": "# Let's create a new cultivar",
   "id": "4b2814b1427a4ac9"
  },
  {
   "metadata": {},
   "cell_type": "code",
   "source": "",
   "id": "6b30f21b9640158c",
   "outputs": [],
   "execution_count": null
  },
  {
   "metadata": {},
   "cell_type": "code",
   "source": "",
   "id": "2d502e4d2b017373",
   "outputs": [],
   "execution_count": null
  },
  {
   "metadata": {},
   "cell_type": "markdown",
   "source": "# Let's predict MHG",
   "id": "5f221110a9ee6bee"
  }
 ],
 "metadata": {
  "kernelspec": {
   "display_name": "Python 3",
   "language": "python",
   "name": "python3"
  },
  "language_info": {
   "codemirror_mode": {
    "name": "ipython",
    "version": 2
   },
   "file_extension": ".py",
   "mimetype": "text/x-python",
   "name": "python",
   "nbconvert_exporter": "python",
   "pygments_lexer": "ipython2",
   "version": "2.7.6"
  }
 },
 "nbformat": 4,
 "nbformat_minor": 5
}
